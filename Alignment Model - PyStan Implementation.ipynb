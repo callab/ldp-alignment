{
 "cells": [
  {
   "cell_type": "code",
   "execution_count": 4,
   "metadata": {
    "collapsed": true
   },
   "outputs": [],
   "source": [
    "import pystan\n",
    "import pandas as pd\n",
    "import feather"
   ]
  },
  {
   "cell_type": "code",
   "execution_count": 14,
   "metadata": {},
   "outputs": [],
   "source": [
    "liwc = pd.read_csv('word_lists/liwc2007_converted.tsv', sep='\\t', header=None, names=['word','category'])"
   ]
  },
  {
   "cell_type": "code",
   "execution_count": 62,
   "metadata": {
    "collapsed": true
   },
   "outputs": [],
   "source": [
    "long_present = feather.read_dataframe('long_present.feather')"
   ]
  },
  {
   "cell_type": "code",
   "execution_count": 64,
   "metadata": {
    "collapsed": true
   },
   "outputs": [],
   "source": [
    "long_present['SpeakerSubPop'] = long_present.person.astype('category').cat.codes\n",
    "long_present['SpeakerSubPop'] = long_present.SpeakerSubPop.apply(lambda x: x+1)\n",
    "long_present['MarkerType'] = long_present.category.astype('category').cat.codes\n",
    "long_present['MarkerType'] = long_present.MarkerType.apply(lambda x: x+1)"
   ]
  },
  {
   "cell_type": "code",
   "execution_count": 99,
   "metadata": {},
   "outputs": [],
   "source": [
    "datadic = {\n",
    "    'NumMarkers': len(liwc.category.unique()),\n",
    "    'NumSubPops': len(long_present.person.unique()),\n",
    "    'NumObservations': long_present.shape[0],\n",
    "    'SpeakerSubPop': long_present.SpeakerSubPop.tolist(),\n",
    "    'SpeakerAge': long_present.session.tolist(),\n",
    "    'MarkerType': long_present.MarkerType.tolist(),\n",
    "    'NumUtterancesAB': [int(long_present.notBA.sum() + long_present.notBnotA.sum())] * NumObservations,\n",
    "    'NumUtterancesNotAB': [int(long_present.BA.sum() + long_present.BnotA.sum())] * NumObservations,\n",
    "    'CountsAB': int(long_present.notBA.sum()) * NumObservations,\n",
    "    'CountsNotAB': int(long_present.BA.sum()) * NumObservations,\n",
    "    'StdDev': 1\n",
    "}"
   ]
  },
  {
   "cell_type": "code",
   "execution_count": 101,
   "metadata": {},
   "outputs": [
    {
     "name": "stderr",
     "output_type": "stream",
     "text": [
      "INFO:pystan:COMPILING THE C++ CODE FOR MODEL anon_model_057b54ac08a7ced87e940f5195861545 NOW.\n",
      "Exception ignored in: 'stanfit4anon_model_057b54ac08a7ced87e940f5195861545_3930090098381915773._dict_to_vars_i'\n",
      "Traceback (most recent call last):\n",
      "  File \"stringsource\", line 167, in pair.from_py.__pyx_convert_pair_from_py_std_3a__3a_vector_3c_int_3e_____and_std_3a__3a_vector_3c_size_t_3e___ (/var/folders/48/0dmfzmbd77z2nvs5n1snd5sh0000gn/T/tmpilnnljpm/stanfit4anon_model_057b54ac08a7ced87e940f5195861545_3930090098381915773.cpp:21883)\n",
      "  File \"stringsource\", line 52, in vector.from_py.__pyx_convert_vector_from_py_int (/var/folders/48/0dmfzmbd77z2nvs5n1snd5sh0000gn/T/tmpilnnljpm/stanfit4anon_model_057b54ac08a7ced87e940f5195861545_3930090098381915773.cpp:21753)\n",
      "OverflowError: value too large to convert to int\n"
     ]
    },
    {
     "ename": "RuntimeError",
     "evalue": "Exception: variable does not exist; processing stage=data initialization; variable name=NumMarkers; base type=int  (in 'unknown file name' at line 3)\n",
     "output_type": "error",
     "traceback": [
      "\u001b[0;31m---------------------------------------------------------------------------\u001b[0m",
      "\u001b[0;31mRuntimeError\u001b[0m                              Traceback (most recent call last)",
      "\u001b[0;32m<ipython-input-101-272ebb2af488>\u001b[0m in \u001b[0;36m<module>\u001b[0;34m()\u001b[0m\n\u001b[0;32m----> 1\u001b[0;31m \u001b[0mfit\u001b[0m \u001b[0;34m=\u001b[0m\u001b[0mpystan\u001b[0m\u001b[0;34m.\u001b[0m\u001b[0mstan\u001b[0m\u001b[0;34m(\u001b[0m\u001b[0mfile\u001b[0m \u001b[0;34m=\u001b[0m \u001b[0;34m'twitter_align.stan'\u001b[0m\u001b[0;34m,\u001b[0m \u001b[0mdata\u001b[0m \u001b[0;34m=\u001b[0m \u001b[0mdatadic\u001b[0m\u001b[0;34m,\u001b[0m \u001b[0mchains\u001b[0m\u001b[0;34m=\u001b[0m\u001b[0;36m1\u001b[0m\u001b[0;34m)\u001b[0m\u001b[0;34m\u001b[0m\u001b[0m\n\u001b[0m",
      "\u001b[0;32m/Users/josephdenby/anaconda/lib/python3.6/site-packages/pystan/api.py\u001b[0m in \u001b[0;36mstan\u001b[0;34m(file, model_name, model_code, fit, data, pars, chains, iter, warmup, thin, init, seed, algorithm, control, sample_file, diagnostic_file, verbose, boost_lib, eigen_lib, n_jobs, **kwargs)\u001b[0m\n\u001b[1;32m    400\u001b[0m                      \u001b[0msample_file\u001b[0m\u001b[0;34m=\u001b[0m\u001b[0msample_file\u001b[0m\u001b[0;34m,\u001b[0m \u001b[0mdiagnostic_file\u001b[0m\u001b[0;34m=\u001b[0m\u001b[0mdiagnostic_file\u001b[0m\u001b[0;34m,\u001b[0m\u001b[0;34m\u001b[0m\u001b[0m\n\u001b[1;32m    401\u001b[0m                      \u001b[0mverbose\u001b[0m\u001b[0;34m=\u001b[0m\u001b[0mverbose\u001b[0m\u001b[0;34m,\u001b[0m \u001b[0malgorithm\u001b[0m\u001b[0;34m=\u001b[0m\u001b[0malgorithm\u001b[0m\u001b[0;34m,\u001b[0m \u001b[0mcontrol\u001b[0m\u001b[0;34m=\u001b[0m\u001b[0mcontrol\u001b[0m\u001b[0;34m,\u001b[0m\u001b[0;34m\u001b[0m\u001b[0m\n\u001b[0;32m--> 402\u001b[0;31m                      n_jobs=n_jobs, **kwargs)\n\u001b[0m\u001b[1;32m    403\u001b[0m     \u001b[0;32mreturn\u001b[0m \u001b[0mfit\u001b[0m\u001b[0;34m\u001b[0m\u001b[0m\n",
      "\u001b[0;32m/Users/josephdenby/anaconda/lib/python3.6/site-packages/pystan/model.py\u001b[0m in \u001b[0;36msampling\u001b[0;34m(self, data, pars, chains, iter, warmup, thin, seed, init, sample_file, diagnostic_file, verbose, algorithm, control, n_jobs, **kwargs)\u001b[0m\n\u001b[1;32m    670\u001b[0m \u001b[0;34m\u001b[0m\u001b[0m\n\u001b[1;32m    671\u001b[0m         \u001b[0mseed\u001b[0m \u001b[0;34m=\u001b[0m \u001b[0mpystan\u001b[0m\u001b[0;34m.\u001b[0m\u001b[0mmisc\u001b[0m\u001b[0;34m.\u001b[0m\u001b[0m_check_seed\u001b[0m\u001b[0;34m(\u001b[0m\u001b[0mseed\u001b[0m\u001b[0;34m)\u001b[0m\u001b[0;34m\u001b[0m\u001b[0m\n\u001b[0;32m--> 672\u001b[0;31m         \u001b[0mfit\u001b[0m \u001b[0;34m=\u001b[0m \u001b[0mself\u001b[0m\u001b[0;34m.\u001b[0m\u001b[0mfit_class\u001b[0m\u001b[0;34m(\u001b[0m\u001b[0mdata\u001b[0m\u001b[0;34m,\u001b[0m \u001b[0mseed\u001b[0m\u001b[0;34m)\u001b[0m\u001b[0;34m\u001b[0m\u001b[0m\n\u001b[0m\u001b[1;32m    673\u001b[0m \u001b[0;34m\u001b[0m\u001b[0m\n\u001b[1;32m    674\u001b[0m         \u001b[0mm_pars\u001b[0m \u001b[0;34m=\u001b[0m \u001b[0mfit\u001b[0m\u001b[0;34m.\u001b[0m\u001b[0m_get_param_names\u001b[0m\u001b[0;34m(\u001b[0m\u001b[0;34m)\u001b[0m\u001b[0;34m\u001b[0m\u001b[0m\n",
      "\u001b[0;32mstanfit4anon_model_057b54ac08a7ced87e940f5195861545_3930090098381915773.pyx\u001b[0m in \u001b[0;36mstanfit4anon_model_057b54ac08a7ced87e940f5195861545_3930090098381915773.StanFit4Model.__cinit__ (/var/folders/48/0dmfzmbd77z2nvs5n1snd5sh0000gn/T/tmpilnnljpm/stanfit4anon_model_057b54ac08a7ced87e940f5195861545_3930090098381915773.cpp:9345)\u001b[0;34m()\u001b[0m\n",
      "\u001b[0;31mRuntimeError\u001b[0m: Exception: variable does not exist; processing stage=data initialization; variable name=NumMarkers; base type=int  (in 'unknown file name' at line 3)\n"
     ]
    }
   ],
   "source": [
    "fit =pystan.stan(file = 'twitter_align.stan', data = datadic, chains=1)"
   ]
  }
 ],
 "metadata": {
  "kernelspec": {
   "display_name": "Python 3",
   "language": "python",
   "name": "python3"
  },
  "language_info": {
   "codemirror_mode": {
    "name": "ipython",
    "version": 3
   },
   "file_extension": ".py",
   "mimetype": "text/x-python",
   "name": "python",
   "nbconvert_exporter": "python",
   "pygments_lexer": "ipython3",
   "version": "3.6.1"
  }
 },
 "nbformat": 4,
 "nbformat_minor": 2
}
